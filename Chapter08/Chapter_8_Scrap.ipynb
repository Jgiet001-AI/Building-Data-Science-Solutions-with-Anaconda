{
 "cells": [
  {
   "cell_type": "markdown",
   "id": "8d19a5c8",
   "metadata": {},
   "source": [
    "## Grabbing Data"
   ]
  },
  {
   "cell_type": "code",
   "execution_count": null,
   "id": "a01b51f0",
   "metadata": {},
   "outputs": [],
   "source": [
    "## Dealing with Data Problems"
   ]
  },
  {
   "cell_type": "markdown",
   "id": "c1ae1429",
   "metadata": {},
   "source": [
    "## Pull in NCAA Data"
   ]
  },
  {
   "cell_type": "code",
   "execution_count": null,
   "id": "26849c44",
   "metadata": {},
   "outputs": [],
   "source": [
    "# Import libraries\n",
    "import requests\n",
    "from bs4 import BeautifulSoup\n",
    "import pandas as pd"
   ]
  },
  {
   "cell_type": "code",
   "execution_count": null,
   "id": "42f2d98e",
   "metadata": {
    "scrolled": false
   },
   "outputs": [],
   "source": [
    "# Create an URL object\n",
    "\n",
    "headers = {\n",
    "    \"User-Agent\": \"Mozilla/5.0 (Windows NT 10.0; Win64; x64) AppleWebKit/537.36 (KHTML, like Gecko) Chrome/96.0.4664.45 Safari/537.36\",\n",
    "    }\n",
    "\n",
    "year = 2021\n",
    "url = f'https://247sports.com/season/2021-football/compositeteamrankings/'\n",
    "# Create object page\n",
    "page = requests.get(url, headers = headers)\n",
    "print(page.text)"
   ]
  },
  {
   "cell_type": "code",
   "execution_count": null,
   "id": "f17decfd",
   "metadata": {},
   "outputs": [],
   "source": [
    "# parser-lxml = Change html to Python friendly format\n",
    "#     <ul class=\"rankings-page__list\" data-js=\"rankings-list\">\n",
    "# Obtain page's information\n",
    "\n",
    "soup = BeautifulSoup(page.text, 'lxml')"
   ]
  },
  {
   "cell_type": "code",
   "execution_count": null,
   "id": "44567242",
   "metadata": {},
   "outputs": [],
   "source": [
    "my_div = soup.find(class_=\"rankings-page__list\").find_all(class_=\"rankings-page__list-item\")\n",
    "my_div"
   ]
  },
  {
   "cell_type": "code",
   "execution_count": null,
   "id": "7efdb5c8",
   "metadata": {},
   "outputs": [],
   "source": [
    "from bs4 import BeautifulSoup, NavigableString, Tag\n",
    "\n",
    "teams = []\n",
    "\n",
    "for li in my_div:\n",
    "#     li = ul.find_all('li')\n",
    "#     team = ul.find(class_=\"team\")\n",
    "#     print(li)\n",
    "    if isinstance(li, NavigableString):\n",
    "        continue\n",
    "        \n",
    "#     print(li)\n",
    "    team_stats = []\n",
    "    \n",
    "    team = li.find(class_=\"team\").text.strip()\n",
    "    rank = li.find(class_=\"rank-column\").find(class_=\"primary\").text.strip()\n",
    "    avg = li.find(class_=\"avg\").text.strip()\n",
    "    points = li.find(class_=\"points\").text.strip()\n",
    "    \n",
    "    team_stats.append(team)\n",
    "    team_stats.append(rank)\n",
    "    team_stats.append(avg)\n",
    "    team_stats.append(points)\n",
    "\n",
    "    teams.append(team_stats)\n",
    "    \n",
    "#     print(f'{team} {rank} {avg} {points}')\n",
    "print(teams)"
   ]
  },
  {
   "cell_type": "markdown",
   "id": "9b205001",
   "metadata": {},
   "source": [
    "## Write to csv"
   ]
  },
  {
   "cell_type": "code",
   "execution_count": null,
   "id": "a94ca345",
   "metadata": {},
   "outputs": [],
   "source": [
    "import csv\n",
    "\n",
    "csv_file =open('ncaa_dump.csv', 'w', newline='')\n",
    "writer = csv.writer(csv_file)\n",
    "\n",
    "header = ['Team','Rank', 'Ave','Points']\n",
    "\n",
    "writer.writerow(header)\n",
    "\n",
    "try:\n",
    "    for team in teams:\n",
    "        print(team)\n",
    "        writer.writerow(team)\n",
    "finally:\n",
    "    csv_file.close()"
   ]
  }
 ],
 "metadata": {
  "kernelspec": {
   "display_name": "Python 3 (ipykernel)",
   "language": "python",
   "name": "python3"
  },
  "language_info": {
   "codemirror_mode": {
    "name": "ipython",
    "version": 3
   },
   "file_extension": ".py",
   "mimetype": "text/x-python",
   "name": "python",
   "nbconvert_exporter": "python",
   "pygments_lexer": "ipython3",
   "version": "3.10.0"
  }
 },
 "nbformat": 4,
 "nbformat_minor": 5
}
